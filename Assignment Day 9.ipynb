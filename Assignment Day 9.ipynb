{
 "cells": [
  {
   "cell_type": "markdown",
   "metadata": {},
   "source": [
    "# Prime number using unit test and pylint library"
   ]
  },
  {
   "cell_type": "code",
   "execution_count": 23,
   "metadata": {},
   "outputs": [],
   "source": [
    "#primes.py\n",
    "\n",
    "def is_prime(number):\n",
    "    \"\"\"Return True if *number* is prime.\"\"\"\n",
    "    if number <= 1:\n",
    "        return False\n",
    "\n",
    "    for element in range(2, number):\n",
    "        if number % element == 0:\n",
    "            return False\n",
    "\n",
    "    return True\n",
    "\n",
    "#test_primes.py\n",
    "\n",
    "import unittest\n",
    "from primes import is_prime\n",
    "\n",
    "class PrimesTestCase(unittest.TestCase):\n",
    "    \"\"\"Tests for `primes.py`.\"\"\"\n",
    "\n",
    "    def test_is_five_prime(self):\n",
    "        \"\"\"Is five successfully determined to be prime?\"\"\"\n",
    "        self.assertTrue(is_prime(5))\n",
    "\n",
    "if __name__ == '__main__':\n",
    "    unittest.main()"
   ]
  },
  {
   "cell_type": "code",
   "execution_count": null,
   "metadata": {},
   "outputs": [],
   "source": []
  },
  {
   "cell_type": "markdown",
   "metadata": {},
   "source": [
    "# Armstrong numbers Generator"
   ]
  },
  {
   "cell_type": "code",
   "execution_count": 25,
   "metadata": {},
   "outputs": [
    {
     "name": "stdout",
     "output_type": "stream",
     "text": [
      "Enter minimum value: 1\n",
      "Enter maximum value: 1000\n",
      "Armstrong numbers from 1 to 1000 are:\n",
      "1 2 3 4 5 6 7 8 9 153 370 371 407 "
     ]
    }
   ],
   "source": [
    "\n",
    "def count_digit(n):\n",
    "    count = 0\n",
    "    while n:\n",
    "        n //= 10\n",
    "        count += 1\n",
    "    return count\n",
    "\n",
    "\n",
    "def is_armstrong(n):\n",
    "\n",
    "    if n< 0:\n",
    "        return False\n",
    "    \n",
    "    number_copy = n\n",
    "    arm_sum = 0\n",
    "    digit = count_digit(n)\n",
    "    while n:\n",
    "        remainder = n%10\n",
    "        arm_sum += remainder**digit\n",
    "        n //= 10\n",
    "\n",
    "    return arm_sum == number_copy\n",
    "\n",
    "\n",
    "min_value = int(input('Enter minimum value: '))\n",
    "max_value = int(input('Enter maximum value: '))\n",
    "\n",
    "print('Armstrong numbers from %d to %d are:' %(min_value, max_value))\n",
    "for i in range(min_value, max_value+1):\n",
    "    if is_armstrong(i):\n",
    "        print(i, end=' ')"
   ]
  },
  {
   "cell_type": "code",
   "execution_count": null,
   "metadata": {},
   "outputs": [],
   "source": []
  }
 ],
 "metadata": {
  "kernelspec": {
   "display_name": "Python 3",
   "language": "python",
   "name": "python3"
  },
  "language_info": {
   "codemirror_mode": {
    "name": "ipython",
    "version": 3
   },
   "file_extension": ".py",
   "mimetype": "text/x-python",
   "name": "python",
   "nbconvert_exporter": "python",
   "pygments_lexer": "ipython3",
   "version": "3.8.3"
  }
 },
 "nbformat": 4,
 "nbformat_minor": 4
}
